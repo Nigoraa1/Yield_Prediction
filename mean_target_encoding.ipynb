{
 "cells": [
  {
   "cell_type": "code",
   "execution_count": 2,
   "metadata": {},
   "outputs": [
    {
     "name": "stdout",
     "output_type": "stream",
     "text": [
      "          City  Purchase  City_encoded\n",
      "0     New York         1      0.833333\n",
      "1  Los Angeles         0      0.166667\n",
      "2      Chicago         1      0.500000\n",
      "3     New York         1      0.833333\n",
      "4      Chicago         0      0.500000\n",
      "5  Los Angeles         0      0.166667\n"
     ]
    }
   ],
   "source": [
    "import pandas as pd\n",
    "\n",
    "def target_encode(df, categorical_col, target_col, min_samples_leaf=1, smoothing=1):\n",
    "    \"\"\"\n",
    "    Applies mean target encoding to a specified categorical column.\n",
    "\n",
    "    Parameters:\n",
    "        df (pd.DataFrame): The dataframe containing the data.\n",
    "        categorical_col (str): The name of the categorical column to be encoded.\n",
    "        target_col (str): The name of the target column.\n",
    "        min_samples_leaf (int): Minimum samples to take category average into account.\n",
    "        smoothing (float): Smoothing effect to balance category mean with global mean.\n",
    "\n",
    "    Returns:\n",
    "        pd.Series: The mean-encoded values for the specified categorical column.\n",
    "    \"\"\"\n",
    "    # Compute the global mean of the target\n",
    "    global_mean = df[target_col].mean()\n",
    "    \n",
    "    # Compute the number of samples and mean of each category\n",
    "    agg = df.groupby(categorical_col)[target_col].agg(['mean', 'count'])\n",
    "    means = agg['mean']\n",
    "    counts = agg['count']\n",
    "    \n",
    "    # Compute the smoothed mean for each category\n",
    "    smoothed_means = (counts * means + smoothing * global_mean) / (counts + smoothing)\n",
    "    \n",
    "    # Apply the smoothed mean to the original column\n",
    "    encoded_col = df[categorical_col].map(smoothed_means)\n",
    "    \n",
    "    return encoded_col\n",
    "\n",
    "# Example usage\n",
    "data = pd.DataFrame({\n",
    "    'City': ['New York', 'Los Angeles', 'Chicago', 'New York', 'Chicago', 'Los Angeles'],\n",
    "    'Purchase': [1, 0, 1, 1, 0, 0]\n",
    "})\n",
    "\n",
    "data['City_encoded'] = target_encode(data, categorical_col='City', target_col='Purchase')\n",
    "print(data)\n"
   ]
  },
  {
   "cell_type": "code",
   "execution_count": null,
   "metadata": {},
   "outputs": [],
   "source": []
  }
 ],
 "metadata": {
  "kernelspec": {
   "display_name": "Python 3",
   "language": "python",
   "name": "python3"
  },
  "language_info": {
   "codemirror_mode": {
    "name": "ipython",
    "version": 3
   },
   "file_extension": ".py",
   "mimetype": "text/x-python",
   "name": "python",
   "nbconvert_exporter": "python",
   "pygments_lexer": "ipython3",
   "version": "3.12.6"
  }
 },
 "nbformat": 4,
 "nbformat_minor": 2
}
