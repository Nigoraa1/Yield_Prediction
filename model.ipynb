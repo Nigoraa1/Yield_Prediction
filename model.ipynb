{
 "cells": [
  {
   "cell_type": "code",
   "execution_count": 2,
   "metadata": {},
   "outputs": [],
   "source": [
    "# import paython libraries\n",
    "import pandas as pd\n",
    "import seaborn as sns\n",
    "import matplotlib.pyplot as plt\n",
    "from FeatureEngeneering import CreateNewFeatures\n",
    "from sklearn.metrics import mean_absolute_error\n",
    "from sklearn.model_selection import train_test_split\n",
    "from sklearn.tree import DecisionTreeRegressor\n",
    "from sklearn.pipeline import Pipeline\n",
    "from sklearn.preprocessing import  StandardScaler\n",
    "from sklearn.ensemble import RandomForestRegressor, StackingRegressor\n",
    "from sklearn.linear_model import Ridge, HuberRegressor\n"
   ]
  },
  {
   "cell_type": "code",
   "execution_count": 3,
   "metadata": {},
   "outputs": [],
   "source": [
    "# Load csv file and create dataframe\n",
    "df = pd.read_csv('train.csv')\n",
    "test = pd.read_csv('test.csv')\n",
    "submission = pd.read_csv('sample_submission.csv')\n",
    "\n",
    "\n",
    "# Feature engineering \n",
    "df = CreateNewFeatures(df)\n",
    "test = CreateNewFeatures(test)\n",
    "\n",
    "\n",
    "# Split data\n",
    "X = df.drop(columns= ['id','yield'])\n",
    "test = test.drop(columns=['id'])\n",
    "y = df['yield']\n",
    "\n",
    "\n",
    "# Split the data into training and test sets\n",
    "X_train, X_test, y_train, y_test = train_test_split(X, y, test_size=0.2, random_state=42)"
   ]
  },
  {
   "cell_type": "code",
   "execution_count": 4,
   "metadata": {},
   "outputs": [
    {
     "name": "stdout",
     "output_type": "stream",
     "text": [
      "Mean Absolute Error: 245.40\n"
     ]
    }
   ],
   "source": [
    "\n",
    "# Base model 1: Huber Regressor with StandardScaler\n",
    "base_model_1 = Pipeline([\n",
    "    ('scaler', StandardScaler()),\n",
    "    ('huber', Ridge())\n",
    "])\n",
    "\n",
    "# Base model 2: Random Forest Regressor (no scaling)\n",
    "base_model_2 = RandomForestRegressor(  min_samples_split=6,\n",
    "        min_samples_leaf=10,\n",
    "        n_estimators=100,\n",
    "        max_depth=19,\n",
    "        max_features='sqrt',\n",
    "        bootstrap=True,\n",
    "        random_state=42,\n",
    "        n_jobs=-1)\n",
    "# Base model 3: Random Forest Regressor (no scaling)\n",
    "base_model_3 = DecisionTreeRegressor(criterion= 'friedman_mse',\n",
    "        min_samples_split=6,\n",
    "        min_samples_leaf=10,\n",
    "        max_depth=19,\n",
    "        max_features='sqrt',\n",
    "        random_state=42,\n",
    "        )\n",
    "\n",
    "\n",
    "\n",
    "# Meta-model: Ridge Regression with StandardScaler\n",
    "meta_model = Pipeline([\n",
    "    ('scaler', StandardScaler()),\n",
    "    ('ridge', HuberRegressor())\n",
    "])\n",
    "\n",
    "# Stacking Regressor (using base models and meta-model)\n",
    "stacked_model = StackingRegressor(\n",
    "    estimators=[('huber', base_model_1), ('rf', base_model_2),('linear',base_model_3)],\n",
    "    final_estimator=meta_model\n",
    ")\n",
    "\n",
    "# Fit the stacked model\n",
    "stacked_model.fit(X_train, y_train)\n",
    "\n",
    "# Make predictions\n",
    "y_pred = stacked_model.predict(X_test)\n",
    "\n",
    "# Evaluate the model using Mean Absolute Error (MAE)\n",
    "mae = mean_absolute_error(y_test, y_pred)\n",
    "print(f\"Mean Absolute Error: {mae:.2f}\")\n"
   ]
  },
  {
   "cell_type": "code",
   "execution_count": 5,
   "metadata": {},
   "outputs": [],
   "source": [
    "# Submit Result\n",
    "sub = stacked_model.predict(test)\n",
    "submission['yield'] = sub\n",
    "submission.to_csv('my_submission.csv',index=False)\n"
   ]
  }
 ],
 "metadata": {
  "kernelspec": {
   "display_name": "Python 3",
   "language": "python",
   "name": "python3"
  },
  "language_info": {
   "codemirror_mode": {
    "name": "ipython",
    "version": 3
   },
   "file_extension": ".py",
   "mimetype": "text/x-python",
   "name": "python",
   "nbconvert_exporter": "python",
   "pygments_lexer": "ipython3",
   "version": "3.12.6"
  }
 },
 "nbformat": 4,
 "nbformat_minor": 2
}
